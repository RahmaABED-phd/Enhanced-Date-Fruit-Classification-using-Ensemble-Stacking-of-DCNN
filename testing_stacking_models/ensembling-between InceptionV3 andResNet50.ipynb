{
 "cells": [
  {
   "cell_type": "code",
   "execution_count": 1,
   "metadata": {
    "_cell_guid": "b1076dfc-b9ad-4769-8c92-a6c4dae69d19",
    "_uuid": "8f2839f25d086af736a60e9eeb907d3b93b6e0e5"
   },
   "outputs": [
    {
     "name": "stdout",
     "output_type": "stream",
     "text": [
      "WARNING:tensorflow:From C:\\Users\\Elite\\AppData\\Roaming\\Python\\Python311\\site-packages\\keras\\src\\losses.py:2976: The name tf.losses.sparse_softmax_cross_entropy is deprecated. Please use tf.compat.v1.losses.sparse_softmax_cross_entropy instead.\n",
      "\n"
     ]
    }
   ],
   "source": [
    "import tensorflow as tf\n",
    "from tensorflow import keras\n",
    "from tensorflow.keras.applications import   InceptionV3\n",
    "from tensorflow.keras.applications import   ResNet50\n",
    "from tensorflow.keras.models import Sequential\n",
    "from tensorflow.keras.layers import Dense\n",
    "from tensorflow.keras.utils import image_dataset_from_directory\n",
    "from tensorflow.keras import layers\n",
    "from tensorflow.keras.preprocessing.image import ImageDataGenerator\n",
    "import tensorflow.keras as keras\n",
    "from tensorflow.keras import regularizers\n",
    "from tensorflow.keras.initializers import GlorotNormal\n",
    "from tensorflow.keras.metrics import TruePositives, FalsePositives, TrueNegatives, FalseNegatives, BinaryAccuracy, Precision, Recall, AUC\n",
    "import numpy as np\n",
    "from sklearn.metrics import classification_report, confusion_matrix,  ConfusionMatrixDisplay\n",
    "import matplotlib.pyplot as plt\n",
    "import pandas as pd\n",
    "import os\n",
    "import time\n",
    "import cv2\n",
    "import pathlib\n",
    "import matplotlib as mpl"
   ]
  },
  {
   "cell_type": "code",
   "execution_count": 2,
   "metadata": {},
   "outputs": [],
   "source": [
    "img_width = 225\n",
    "img_height = 255\n",
    "batch_size = 64\n",
    "color = 3\n",
    "dataset_folder = \"Date Fruit\"\n",
    "classes_name = ['Aseel', 'Fasli Toto', 'Gajar', 'Kupro']"
   ]
  },
  {
   "cell_type": "code",
   "execution_count": 3,
   "metadata": {},
   "outputs": [],
   "source": [
    "def Blurring(image):\n",
    "    image = cv2.medianBlur(image,5)\n",
    "    return image\n",
    "def image_generator(dataset_folder):\n",
    "    datagen = ImageDataGenerator( rescale=1/255, validation_split=0.2,\n",
    "                               vertical_flip=True ,\n",
    "                               horizontal_flip=True,\n",
    "                               width_shift_range=0.2,\n",
    "                               height_shift_range=0.2,\n",
    "                               rotation_range = 5, \n",
    "                               shear_range = 0.02,zoom_range = 0.02,\n",
    "                               preprocessing_function = Blurring)\n",
    "    train_generator = datagen.flow_from_directory(\n",
    "      dataset_folder,\n",
    "      target_size=(img_height, img_width),\n",
    "      batch_size=batch_size,\n",
    "      class_mode='categorical',\n",
    "      shuffle=True,\n",
    "      subset='training')\n",
    "    validation_generator = datagen.flow_from_directory(\n",
    "      dataset_folder,\n",
    "      target_size=(img_height, img_width),\n",
    "      batch_size= batch_size,\n",
    "      shuffle=False,\n",
    "      class_mode='categorical',\n",
    "      subset='validation')\n",
    "    return [train_generator, validation_generator]"
   ]
  },
  {
   "cell_type": "code",
   "execution_count": 4,
   "metadata": {},
   "outputs": [
    {
     "name": "stdout",
     "output_type": "stream",
     "text": [
      "Found 2404 images belonging to 4 classes.\n",
      "Found 600 images belonging to 4 classes.\n"
     ]
    }
   ],
   "source": [
    "[training_dataset, validation_dataset] = image_generator(dataset_folder)"
   ]
  },
  {
   "cell_type": "code",
   "execution_count": 5,
   "metadata": {},
   "outputs": [
    {
     "name": "stdout",
     "output_type": "stream",
     "text": [
      "****************train************************************\n",
      "Class 'Aseel': 396 images\n",
      "Class 'Fasli Toto': 312 images\n",
      "Class 'Gajar': 1048 images\n",
      "Class 'Kupro': 648 images\n"
     ]
    }
   ],
   "source": [
    "# Get class indices and classes\n",
    "class_indices = training_dataset.class_indices\n",
    "classes = training_dataset.classes\n",
    "# Count number of images per class\n",
    "class_counts = {class_name: np.sum(classes == class_index) for class_name, class_index in class_indices.items()}\n",
    "print ('****************train************************************')\n",
    "# Print the number of images per class\n",
    "for class_name, count in class_counts.items():\n",
    "    print(f\"Class '{class_name}': {count} images\")"
   ]
  },
  {
   "cell_type": "code",
   "execution_count": 6,
   "metadata": {},
   "outputs": [
    {
     "name": "stdout",
     "output_type": "stream",
     "text": [
      "****************test************************************\n",
      "Class 'Aseel': 98 images\n",
      "Class 'Fasli Toto': 78 images\n",
      "Class 'Gajar': 262 images\n",
      "Class 'Kupro': 162 images\n"
     ]
    }
   ],
   "source": [
    "# Get class indices and classes\n",
    "class_indices = validation_dataset.class_indices\n",
    "classes = validation_dataset.classes\n",
    "# Count number of images per class\n",
    "class_counts = {class_name: np.sum(classes == class_index) for class_name, class_index in class_indices.items()}\n",
    "print ('****************test************************************')\n",
    "# Print the number of images per class\n",
    "for class_name, count in class_counts.items():\n",
    "    print(f\"Class '{class_name}': {count} images\")"
   ]
  },
  {
   "cell_type": "code",
   "execution_count": 7,
   "metadata": {},
   "outputs": [
    {
     "name": "stdout",
     "output_type": "stream",
     "text": [
      "WARNING:tensorflow:From C:\\Users\\Elite\\AppData\\Roaming\\Python\\Python311\\site-packages\\keras\\src\\backend.py:1398: The name tf.executing_eagerly_outside_functions is deprecated. Please use tf.compat.v1.executing_eagerly_outside_functions instead.\n",
      "\n",
      "WARNING:tensorflow:From C:\\Users\\Elite\\AppData\\Roaming\\Python\\Python311\\site-packages\\keras\\src\\layers\\pooling\\max_pooling2d.py:161: The name tf.nn.max_pool is deprecated. Please use tf.nn.max_pool2d instead.\n",
      "\n",
      "WARNING:tensorflow:From C:\\Users\\Elite\\AppData\\Roaming\\Python\\Python311\\site-packages\\keras\\src\\engine\\base_layer_utils.py:384: The name tf.executing_eagerly_outside_functions is deprecated. Please use tf.compat.v1.executing_eagerly_outside_functions instead.\n",
      "\n"
     ]
    }
   ],
   "source": [
    "from tensorflow.keras.models import Model, load_model\n",
    "from tensorflow.keras.layers import Input, Average\n",
    "from tensorflow.keras.layers import Input, Concatenate, Dense, Activation,Flatten,Dropout\n",
    "model_1 = load_model('modelInception.h5')\n",
    "model_1 = Model(inputs=model_1.inputs,\n",
    "                outputs=model_1.outputs,\n",
    "                name='name_of_model')\n",
    "model_2 = load_model('modelResNet.h5')\n",
    "model_2 = Model(inputs=model_2.inputs,\n",
    "                outputs=model_2.outputs,\n",
    "                name='name_of_mode2')\n",
    "models = [model_1, model_2]\n",
    "\n",
    "model_1.trainable = False\n",
    "model_2.trainable = False\n",
    "\n",
    "# Create the input layer\n",
    "model_input = Input(shape=(255, 225,3))\n",
    "\n",
    "# Pass the input through the base models\n",
    "model_1_output = model_1 (model_input)\n",
    "model_2_output = model_2 (model_input)\n",
    "\n",
    "# Concatenate the outputs of the base models\n",
    "combined_output = Concatenate()([model_1_output, model_2_output])\n",
    "\n",
    "# Add fully connected layers\n",
    "x = Flatten()(combined_output)\n",
    "x = Dense(64,activation='relu')(x)\n",
    "x = Dropout(0.2)(x)\n",
    "x = Dense(32, activation='relu')(x)\n",
    "x = Dropout(0.2)(x)\n",
    "x = Dense(18, activation='relu')(x)\n",
    "x = Dropout(0.2)(x)\n",
    "output_layer = Dense(len(classes_name), activation='softmax')(x)\n",
    "\n",
    "# Create the stacking ensemble model\n",
    "stacking_model = Model(inputs=model_input, outputs=output_layer)\n"
   ]
  },
  {
   "cell_type": "code",
   "execution_count": 8,
   "metadata": {},
   "outputs": [],
   "source": [
    "me = [\n",
    "      TruePositives(name='tp'),\n",
    "      FalsePositives(name='fp'),\n",
    "      TrueNegatives(name='tn'),\n",
    "      FalseNegatives(name='fn'),\n",
    "      BinaryAccuracy(name='accuracy'),\n",
    "      Precision(name='precision'),\n",
    "      Recall(name='recall'),\n",
    "      AUC(name='auc')\n",
    "]"
   ]
  },
  {
   "cell_type": "code",
   "execution_count": 9,
   "metadata": {},
   "outputs": [],
   "source": [
    "base_learning_rate = 0.01\n",
    "stacking_model.compile(optimizer=tf.keras.optimizers.Adamax(learning_rate=base_learning_rate),\n",
    "              loss=\"categorical_crossentropy\",\n",
    "              metrics=me)"
   ]
  },
  {
   "cell_type": "code",
   "execution_count": 10,
   "metadata": {},
   "outputs": [],
   "source": [
    "call_1 = tf.keras.callbacks.EarlyStopping(monitor='loss', patience=5, restore_best_weights=True)\n",
    "callbacks = [call_1]"
   ]
  },
  {
   "cell_type": "code",
   "execution_count": 11,
   "metadata": {},
   "outputs": [
    {
     "name": "stdout",
     "output_type": "stream",
     "text": [
      "Epoch 1/50\n",
      "WARNING:tensorflow:From C:\\Users\\Elite\\AppData\\Roaming\\Python\\Python311\\site-packages\\keras\\src\\utils\\tf_utils.py:492: The name tf.ragged.RaggedTensorValue is deprecated. Please use tf.compat.v1.ragged.RaggedTensorValue instead.\n",
      "\n",
      "38/38 [==============================] - 254s 6s/step - loss: 1.1081 - tp: 1376.0000 - fp: 184.0000 - tn: 7028.0000 - fn: 1028.0000 - accuracy: 0.8740 - precision: 0.8821 - recall: 0.5724 - auc: 0.9322\n",
      "Epoch 2/50\n",
      "38/38 [==============================] - 255s 7s/step - loss: 0.7485 - tp: 2084.0000 - fp: 244.0000 - tn: 6968.0000 - fn: 320.0000 - accuracy: 0.9413 - precision: 0.8952 - recall: 0.8669 - auc: 0.9799\n",
      "Epoch 3/50\n",
      "38/38 [==============================] - 249s 7s/step - loss: 0.7169 - tp: 2139.0000 - fp: 201.0000 - tn: 7011.0000 - fn: 265.0000 - accuracy: 0.9515 - precision: 0.9141 - recall: 0.8898 - auc: 0.9839\n",
      "Epoch 4/50\n",
      "38/38 [==============================] - 247s 6s/step - loss: 0.7126 - tp: 2126.0000 - fp: 228.0000 - tn: 6984.0000 - fn: 278.0000 - accuracy: 0.9474 - precision: 0.9031 - recall: 0.8844 - auc: 0.9836\n",
      "Epoch 5/50\n",
      "38/38 [==============================] - 245s 6s/step - loss: 0.6906 - tp: 2165.0000 - fp: 196.0000 - tn: 7016.0000 - fn: 239.0000 - accuracy: 0.9548 - precision: 0.9170 - recall: 0.9006 - auc: 0.9855\n",
      "Epoch 6/50\n",
      "38/38 [==============================] - 248s 6s/step - loss: 0.6840 - tp: 2164.0000 - fp: 203.0000 - tn: 7009.0000 - fn: 240.0000 - accuracy: 0.9539 - precision: 0.9142 - recall: 0.9002 - auc: 0.9863\n",
      "Epoch 7/50\n",
      "38/38 [==============================] - 248s 6s/step - loss: 0.6874 - tp: 2160.0000 - fp: 199.0000 - tn: 7013.0000 - fn: 244.0000 - accuracy: 0.9539 - precision: 0.9156 - recall: 0.8985 - auc: 0.9847\n",
      "Epoch 8/50\n",
      "38/38 [==============================] - 248s 6s/step - loss: 0.7048 - tp: 2140.0000 - fp: 215.0000 - tn: 6997.0000 - fn: 264.0000 - accuracy: 0.9502 - precision: 0.9087 - recall: 0.8902 - auc: 0.9837\n",
      "Epoch 9/50\n",
      "38/38 [==============================] - 252s 7s/step - loss: 0.6596 - tp: 2194.0000 - fp: 180.0000 - tn: 7032.0000 - fn: 210.0000 - accuracy: 0.9594 - precision: 0.9242 - recall: 0.9126 - auc: 0.9886\n",
      "Epoch 10/50\n",
      "38/38 [==============================] - 248s 6s/step - loss: 0.6735 - tp: 2175.0000 - fp: 202.0000 - tn: 7010.0000 - fn: 229.0000 - accuracy: 0.9552 - precision: 0.9150 - recall: 0.9047 - auc: 0.9867\n",
      "Epoch 11/50\n",
      "38/38 [==============================] - 246s 6s/step - loss: 0.6830 - tp: 2163.0000 - fp: 206.0000 - tn: 7006.0000 - fn: 241.0000 - accuracy: 0.9535 - precision: 0.9130 - recall: 0.8998 - auc: 0.9863\n",
      "Epoch 12/50\n",
      "38/38 [==============================] - 246s 6s/step - loss: 0.6527 - tp: 2184.0000 - fp: 179.0000 - tn: 7033.0000 - fn: 220.0000 - accuracy: 0.9585 - precision: 0.9242 - recall: 0.9085 - auc: 0.9895\n",
      "Epoch 13/50\n",
      "38/38 [==============================] - 248s 6s/step - loss: 0.6565 - tp: 2194.0000 - fp: 175.0000 - tn: 7037.0000 - fn: 210.0000 - accuracy: 0.9600 - precision: 0.9261 - recall: 0.9126 - auc: 0.9886\n",
      "Epoch 14/50\n",
      "38/38 [==============================] - 245s 6s/step - loss: 0.6751 - tp: 2192.0000 - fp: 186.0000 - tn: 7026.0000 - fn: 212.0000 - accuracy: 0.9586 - precision: 0.9218 - recall: 0.9118 - auc: 0.9867\n",
      "Epoch 15/50\n",
      "38/38 [==============================] - 252s 7s/step - loss: 0.6702 - tp: 2170.0000 - fp: 193.0000 - tn: 7019.0000 - fn: 234.0000 - accuracy: 0.9556 - precision: 0.9183 - recall: 0.9027 - auc: 0.9879\n",
      "Epoch 16/50\n",
      "38/38 [==============================] - 316s 8s/step - loss: 0.6492 - tp: 2200.0000 - fp: 168.0000 - tn: 7044.0000 - fn: 204.0000 - accuracy: 0.9613 - precision: 0.9291 - recall: 0.9151 - auc: 0.9897\n",
      "Epoch 17/50\n",
      "38/38 [==============================] - 320s 8s/step - loss: 0.6716 - tp: 2166.0000 - fp: 208.0000 - tn: 7004.0000 - fn: 238.0000 - accuracy: 0.9536 - precision: 0.9124 - recall: 0.9010 - auc: 0.9880\n",
      "Epoch 18/50\n",
      "38/38 [==============================] - 317s 8s/step - loss: 0.6723 - tp: 2166.0000 - fp: 181.0000 - tn: 7031.0000 - fn: 238.0000 - accuracy: 0.9564 - precision: 0.9229 - recall: 0.9010 - auc: 0.9871\n",
      "Epoch 19/50\n",
      "38/38 [==============================] - 272s 7s/step - loss: 0.6500 - tp: 2185.0000 - fp: 185.0000 - tn: 7027.0000 - fn: 219.0000 - accuracy: 0.9580 - precision: 0.9219 - recall: 0.9089 - auc: 0.9896\n",
      "Epoch 20/50\n",
      "38/38 [==============================] - 241s 6s/step - loss: 0.6569 - tp: 2185.0000 - fp: 184.0000 - tn: 7028.0000 - fn: 219.0000 - accuracy: 0.9581 - precision: 0.9223 - recall: 0.9089 - auc: 0.9893\n",
      "Epoch 21/50\n",
      "38/38 [==============================] - 250s 7s/step - loss: 0.6524 - tp: 2198.0000 - fp: 174.0000 - tn: 7038.0000 - fn: 206.0000 - accuracy: 0.9605 - precision: 0.9266 - recall: 0.9143 - auc: 0.9887\n"
     ]
    }
   ],
   "source": [
    "epochs=50\n",
    "historyENSEMBLING=stacking_model.fit(\n",
    "training_dataset,\n",
    "  epochs=epochs,\n",
    "  callbacks = callbacks,\n",
    "  batch_size = batch_size\n",
    ")\n"
   ]
  },
  {
   "cell_type": "code",
   "execution_count": 12,
   "metadata": {},
   "outputs": [],
   "source": [
    "def drawing(p1, p2, p3, p4):\n",
    "  a = p1[0]\n",
    "  b = p2[0]\n",
    "  c = p3[0]\n",
    "  d = p4[0]\n",
    "  plt.rcParams[\"figure.figsize\"] = (20,4)\n",
    "  mpl.style.use('seaborn')\n",
    "  plt.plot(a,'blue', label=p1[1])\n",
    "  plt.plot(b,'orange', label=p2[1])\n",
    "  plt.plot(c,'red', label=p3[1])\n",
    "  plt.plot(d,'green', label=p4[1])\n",
    "  plt.legend()"
   ]
  },
  {
   "cell_type": "code",
   "execution_count": 13,
   "metadata": {},
   "outputs": [
    {
     "name": "stderr",
     "output_type": "stream",
     "text": [
      "C:\\Users\\Elite\\AppData\\Local\\Temp\\ipykernel_17456\\354503818.py:7: MatplotlibDeprecationWarning: The seaborn styles shipped by Matplotlib are deprecated since 3.6, as they no longer correspond to the styles shipped by seaborn. However, they will remain available as 'seaborn-v0_8-<style>'. Alternatively, directly use the seaborn API instead.\n",
      "  mpl.style.use('seaborn')\n"
     ]
    },
    {
     "data": {
      "image/png": "[encoded data removed]",
      "text/plain": [
       "<Figure size 800x550 with 1 Axes>"
      ]
     },
     "metadata": {},
     "output_type": "display_data"
    }
   ],
   "source": [
    "drawing(\n",
    "    [historyENSEMBLING.history['accuracy'], 'Accuracy'],\n",
    "    [historyENSEMBLING.history['recall'], 'Recall'],\n",
    "    [historyENSEMBLING.history['precision'], 'Precision'],\n",
    "    [historyENSEMBLING.history['auc'], 'auc']\n",
    ")"
   ]
  },
  {
   "cell_type": "code",
   "execution_count": 14,
   "metadata": {},
   "outputs": [
    {
     "data": {
      "text/plain": [
       "<matplotlib.legend.Legend at 0x1fd3800b1d0>"
      ]
     },
     "execution_count": 14,
     "metadata": {},
     "output_type": "execute_result"
    },
    {
     "data": {
      "image/png": "[encoded data removed]",
      "text/plain": [
       "<Figure size 800x550 with 1 Axes>"
      ]
     },
     "metadata": {},
     "output_type": "display_data"
    }
   ],
   "source": [
    "plt.plot(historyENSEMBLING.history['loss'],'green', label=\"loss\")\n",
    "plt.legend()"
   ]
  },
  {
   "cell_type": "code",
   "execution_count": 15,
   "metadata": {},
   "outputs": [
    {
     "name": "stdout",
     "output_type": "stream",
     "text": [
      "9/9 [==============================] - 72s 7s/step - loss: 0.6787 - tp: 533.0000 - fp: 41.0000 - tn: 1687.0000 - fn: 43.0000 - accuracy: 0.9635 - precision: 0.9286 - recall: 0.9253 - auc: 0.9846\n"
     ]
    },
    {
     "data": {
      "text/plain": [
       "[0.6787213087081909,\n",
       " 533.0,\n",
       " 41.0,\n",
       " 1687.0,\n",
       " 43.0,\n",
       " 0.9635416865348816,\n",
       " 0.9285714030265808,\n",
       " 0.9253472089767456,\n",
       " 0.9846245646476746]"
      ]
     },
     "execution_count": 15,
     "metadata": {},
     "output_type": "execute_result"
    }
   ],
   "source": [
    "stacking_model.evaluate(validation_dataset,batch_size = validation_dataset.batch_size ,steps = validation_dataset.n // validation_dataset.batch_size)"
   ]
  },
  {
   "cell_type": "code",
   "execution_count": 16,
   "metadata": {},
   "outputs": [],
   "source": [
    "validation_dataset.reset()"
   ]
  },
  {
   "cell_type": "code",
   "execution_count": 17,
   "metadata": {},
   "outputs": [
    {
     "name": "stdout",
     "output_type": "stream",
     "text": [
      "10/10 [==============================] - 71s 7s/step\n"
     ]
    }
   ],
   "source": [
    "Y_pred =stacking_model.predict(validation_dataset,  workers=1)"
   ]
  },
  {
   "cell_type": "code",
   "execution_count": 18,
   "metadata": {},
   "outputs": [],
   "source": [
    "y_pred = np.argmax(Y_pred ,  axis = 1)"
   ]
  },
  {
   "cell_type": "code",
   "execution_count": 19,
   "metadata": {},
   "outputs": [
    {
     "data": {
      "text/html": [
       "<div>\n",
       "<style scoped>\n",
       "    .dataframe tbody tr th:only-of-type {\n",
       "        vertical-align: middle;\n",
       "    }\n",
       "\n",
       "    .dataframe tbody tr th {\n",
       "        vertical-align: top;\n",
       "    }\n",
       "\n",
       "    .dataframe thead th {\n",
       "        text-align: right;\n",
       "    }\n",
       "</style>\n",
       "<table border=\"1\" class=\"dataframe\">\n",
       "  <thead>\n",
       "    <tr style=\"text-align: right;\">\n",
       "      <th></th>\n",
       "      <th>Aseel</th>\n",
       "      <th>Fasli Toto</th>\n",
       "      <th>Gajar</th>\n",
       "      <th>Kupro</th>\n",
       "    </tr>\n",
       "  </thead>\n",
       "  <tbody>\n",
       "    <tr>\n",
       "      <th>Aseel</th>\n",
       "      <td>96</td>\n",
       "      <td>9</td>\n",
       "      <td>0</td>\n",
       "      <td>0</td>\n",
       "    </tr>\n",
       "    <tr>\n",
       "      <th>Fasli Toto</th>\n",
       "      <td>2</td>\n",
       "      <td>49</td>\n",
       "      <td>2</td>\n",
       "      <td>0</td>\n",
       "    </tr>\n",
       "    <tr>\n",
       "      <th>Gajar</th>\n",
       "      <td>0</td>\n",
       "      <td>20</td>\n",
       "      <td>257</td>\n",
       "      <td>0</td>\n",
       "    </tr>\n",
       "    <tr>\n",
       "      <th>Kupro</th>\n",
       "      <td>0</td>\n",
       "      <td>0</td>\n",
       "      <td>3</td>\n",
       "      <td>162</td>\n",
       "    </tr>\n",
       "  </tbody>\n",
       "</table>\n",
       "</div>"
      ],
      "text/plain": [
       "            Aseel  Fasli Toto  Gajar  Kupro\n",
       "Aseel          96           9      0      0\n",
       "Fasli Toto      2          49      2      0\n",
       "Gajar           0          20    257      0\n",
       "Kupro           0           0      3    162"
      ]
     },
     "execution_count": 19,
     "metadata": {},
     "output_type": "execute_result"
    }
   ],
   "source": [
    "res = tf.math.confusion_matrix(y_pred,validation_dataset.classes).numpy()\n",
    "confusion_matrix = pd.DataFrame(res,\n",
    "                     index = classes_name,\n",
    "                     columns = classes_name)\n",
    "confusion_matrix"
   ]
  },
  {
   "cell_type": "code",
   "execution_count": 20,
   "metadata": {},
   "outputs": [
    {
     "data": {
      "image/png": "[encoded data removed]",
      "text/plain": [
       "<Figure size 1000x800 with 2 Axes>"
      ]
     },
     "metadata": {},
     "output_type": "display_data"
    }
   ],
   "source": [
    "import seaborn as sns\n",
    "plt.figure(figsize=(10, 8))\n",
    "sns.heatmap(confusion_matrix, annot=True, fmt='d', cmap='Blues', xticklabels=classes_name, yticklabels=classes_name)\n",
    "plt.xlabel('Predicted Label')\n",
    "plt.ylabel('True Label')\n",
    "plt.title('Confusion Matrix')\n",
    "plt.show()"
   ]
  },
  {
   "cell_type": "code",
   "execution_count": 21,
   "metadata": {},
   "outputs": [
    {
     "name": "stdout",
     "output_type": "stream",
     "text": [
      "              precision    recall  f1-score   support\n",
      "\n",
      "       Aseel       0.91      0.98      0.95        98\n",
      "  Fasli Toto       0.92      0.63      0.75        78\n",
      "       Gajar       0.93      0.98      0.95       262\n",
      "       Kupro       0.98      1.00      0.99       162\n",
      "\n",
      "    accuracy                           0.94       600\n",
      "   macro avg       0.94      0.90      0.91       600\n",
      "weighted avg       0.94      0.94      0.94       600\n",
      "\n"
     ]
    }
   ],
   "source": [
    "classifi_report = classification_report(validation_dataset.classes, y_pred,target_names = classes_name)\n",
    "print(classifi_report)"
   ]
  }
 ],
 "metadata": {
  "kaggle": {
   "accelerator": "none",
   "dataSources": [
    {
     "datasetId": 5366414,
     "sourceId": 8922121,
     "sourceType": "datasetVersion"
    }
   ],
   "isGpuEnabled": false,
   "isInternetEnabled": true,
   "language": "python",
   "sourceType": "notebook"
  },
  "kernelspec": {
   "display_name": "Python 3 (ipykernel)",
   "language": "python",
   "name": "python3"
  },
  "language_info": {
   "codemirror_mode": {
    "name": "ipython",
    "version": 3
   },
   "file_extension": ".py",
   "mimetype": "text/x-python",
   "name": "python",
   "nbconvert_exporter": "python",
   "pygments_lexer": "ipython3",
   "version": "3.8.20"
  }
 },
 "nbformat": 4,
 "nbformat_minor": 4
}
