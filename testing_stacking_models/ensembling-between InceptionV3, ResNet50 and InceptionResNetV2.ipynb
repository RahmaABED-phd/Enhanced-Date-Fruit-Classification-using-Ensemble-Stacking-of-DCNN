{
 "cells": [
  {
   "cell_type": "code",
   "execution_count": 1,
   "metadata": {
    "_cell_guid": "b1076dfc-b9ad-4769-8c92-a6c4dae69d19",
    "_uuid": "8f2839f25d086af736a60e9eeb907d3b93b6e0e5"
   },
   "outputs": [
    {
     "name": "stdout",
     "output_type": "stream",
     "text": [
      "WARNING:tensorflow:From C:\\Users\\Elite\\AppData\\Roaming\\Python\\Python311\\site-packages\\keras\\src\\losses.py:2976: The name tf.losses.sparse_softmax_cross_entropy is deprecated. Please use tf.compat.v1.losses.sparse_softmax_cross_entropy instead.\n",
      "\n"
     ]
    }
   ],
   "source": [
    "import tensorflow as tf\n",
    "from tensorflow import keras\n",
    "from tensorflow.keras.applications import   InceptionV3\n",
    "from tensorflow.keras.applications import   ResNet50\n",
    "from tensorflow.keras.applications import InceptionResNetV2\n",
    "from tensorflow.keras.models import Sequential\n",
    "from tensorflow.keras.layers import Dense\n",
    "from tensorflow.keras.utils import image_dataset_from_directory\n",
    "from tensorflow.keras import layers\n",
    "from tensorflow.keras.preprocessing.image import ImageDataGenerator\n",
    "import tensorflow.keras as keras\n",
    "from tensorflow.keras import regularizers\n",
    "from tensorflow.keras.initializers import GlorotNormal\n",
    "from tensorflow.keras.metrics import TruePositives, FalsePositives, TrueNegatives, FalseNegatives, BinaryAccuracy, Precision, Recall, AUC\n",
    "import numpy as np\n",
    "from sklearn.metrics import classification_report, confusion_matrix,  ConfusionMatrixDisplay\n",
    "import matplotlib.pyplot as plt\n",
    "import pandas as pd\n",
    "import os\n",
    "import time\n",
    "import cv2\n",
    "import pathlib\n",
    "import matplotlib as mpl"
   ]
  },
  {
   "cell_type": "code",
   "execution_count": 2,
   "metadata": {},
   "outputs": [],
   "source": [
    "img_width = 225\n",
    "img_height = 255\n",
    "batch_size = 64\n",
    "color = 3\n",
    "dataset_folder = \"Date Fruit\"\n",
    "classes_name = ['Aseel', 'Fasli Toto', 'Gajar', 'Kupro']"
   ]
  },
  {
   "cell_type": "code",
   "execution_count": 3,
   "metadata": {},
   "outputs": [],
   "source": [
    "def Blurring(image):\n",
    "    image = cv2.medianBlur(image,5)\n",
    "    return image\n",
    "def image_generator(dataset_folder):\n",
    "    datagen = ImageDataGenerator( rescale=1/255, validation_split=0.2,\n",
    "                               vertical_flip=True ,\n",
    "                               horizontal_flip=True,\n",
    "                               width_shift_range=0.2,\n",
    "                               height_shift_range=0.2,\n",
    "                               rotation_range = 5, \n",
    "                               shear_range = 0.02,zoom_range = 0.02,\n",
    "                               preprocessing_function = Blurring)\n",
    "    train_generator = datagen.flow_from_directory(\n",
    "      dataset_folder,\n",
    "      target_size=(img_height, img_width),\n",
    "      batch_size=batch_size,\n",
    "      class_mode='categorical',\n",
    "      shuffle=True,\n",
    "      subset='training')\n",
    "    validation_generator = datagen.flow_from_directory(\n",
    "      dataset_folder,\n",
    "      target_size=(img_height, img_width),\n",
    "      batch_size= batch_size,\n",
    "      shuffle=False,\n",
    "      class_mode='categorical',\n",
    "      subset='validation')\n",
    "    return [train_generator, validation_generator]"
   ]
  },
  {
   "cell_type": "code",
   "execution_count": 4,
   "metadata": {},
   "outputs": [
    {
     "name": "stdout",
     "output_type": "stream",
     "text": [
      "Found 2404 images belonging to 4 classes.\n",
      "Found 600 images belonging to 4 classes.\n"
     ]
    }
   ],
   "source": [
    "[training_dataset, validation_dataset] = image_generator(dataset_folder)"
   ]
  },
  {
   "cell_type": "code",
   "execution_count": 5,
   "metadata": {},
   "outputs": [
    {
     "name": "stdout",
     "output_type": "stream",
     "text": [
      "****************train************************************\n",
      "Class 'Aseel': 396 images\n",
      "Class 'Fasli Toto': 312 images\n",
      "Class 'Gajar': 1048 images\n",
      "Class 'Kupro': 648 images\n"
     ]
    }
   ],
   "source": [
    "# Get class indices and classes\n",
    "class_indices = training_dataset.class_indices\n",
    "classes = training_dataset.classes\n",
    "# Count number of images per class\n",
    "class_counts = {class_name: np.sum(classes == class_index) for class_name, class_index in class_indices.items()}\n",
    "print ('****************train************************************')\n",
    "# Print the number of images per class\n",
    "for class_name, count in class_counts.items():\n",
    "    print(f\"Class '{class_name}': {count} images\")"
   ]
  },
  {
   "cell_type": "code",
   "execution_count": 6,
   "metadata": {},
   "outputs": [
    {
     "name": "stdout",
     "output_type": "stream",
     "text": [
      "****************test************************************\n",
      "Class 'Aseel': 98 images\n",
      "Class 'Fasli Toto': 78 images\n",
      "Class 'Gajar': 262 images\n",
      "Class 'Kupro': 162 images\n"
     ]
    }
   ],
   "source": [
    "# Get class indices and classes\n",
    "class_indices = validation_dataset.class_indices\n",
    "classes = validation_dataset.classes\n",
    "# Count number of images per class\n",
    "class_counts = {class_name: np.sum(classes == class_index) for class_name, class_index in class_indices.items()}\n",
    "print ('****************test************************************')\n",
    "# Print the number of images per class\n",
    "for class_name, count in class_counts.items():\n",
    "    print(f\"Class '{class_name}': {count} images\")"
   ]
  },
  {
   "cell_type": "code",
   "execution_count": 7,
   "metadata": {
    "scrolled": true
   },
   "outputs": [
    {
     "name": "stdout",
     "output_type": "stream",
     "text": [
      "WARNING:tensorflow:From C:\\Users\\Elite\\AppData\\Roaming\\Python\\Python311\\site-packages\\keras\\src\\backend.py:1398: The name tf.executing_eagerly_outside_functions is deprecated. Please use tf.compat.v1.executing_eagerly_outside_functions instead.\n",
      "\n",
      "WARNING:tensorflow:From C:\\Users\\Elite\\AppData\\Roaming\\Python\\Python311\\site-packages\\keras\\src\\layers\\pooling\\max_pooling2d.py:161: The name tf.nn.max_pool is deprecated. Please use tf.nn.max_pool2d instead.\n",
      "\n",
      "WARNING:tensorflow:From C:\\Users\\Elite\\AppData\\Roaming\\Python\\Python311\\site-packages\\keras\\src\\engine\\base_layer_utils.py:384: The name tf.executing_eagerly_outside_functions is deprecated. Please use tf.compat.v1.executing_eagerly_outside_functions instead.\n",
      "\n"
     ]
    }
   ],
   "source": [
    "from tensorflow.keras.models import Model, load_model\n",
    "from tensorflow.keras.layers import Input, Average\n",
    "from tensorflow.keras.layers import Input, Concatenate, Dense, Activation,Flatten,Dropout\n",
    "model_1 = load_model('modelInception.h5')\n",
    "model_1 = Model(inputs=model_1.inputs,\n",
    "                outputs=model_1.outputs,\n",
    "                name='Inception')\n",
    "model_2 = load_model('modelResNet.h5')\n",
    "model_2 = Model(inputs=model_2.inputs,\n",
    "                outputs=model_2.outputs,\n",
    "                name='ResNet')\n",
    "model_3 = load_model('modelInceptionResNetV2.h5')\n",
    "model_3 = Model(inputs=model_3.inputs,\n",
    "                outputs=model_3.outputs,\n",
    "                name='InceptionResNetV2')\n",
    "\n",
    "models = [model_1, model_2,model_3]\n",
    "\n",
    "model_1.trainable = False\n",
    "model_2.trainable = False\n",
    "model_3.trainable = False\n",
    "\n",
    "# Create the input layer\n",
    "model_input = Input(shape=(255, 225,3))\n",
    "\n",
    "# Pass the input through the base models\n",
    "model_1_output = model_1 (model_input)\n",
    "model_2_output = model_2 (model_input)\n",
    "model_3_output = model_3 (model_input)\n",
    "\n",
    "# Concatenate the outputs of the base models\n",
    "combined_output = Concatenate()([model_1_output, model_2_output,model_3_output])\n",
    "\n",
    "# Add fully connected layers\n",
    "x = Flatten()(combined_output)\n",
    "x = Dense(64,activation='relu')(x)\n",
    "x = Dropout(0.2)(x)\n",
    "x = Dense(32, activation='relu')(x)\n",
    "x = Dropout(0.2)(x)\n",
    "x = Dense(18, activation='relu')(x)\n",
    "x = Dropout(0.2)(x)\n",
    "output_layer = Dense(4, activation='softmax')(x)\n",
    "\n",
    "# Create the stacking ensemble model\n",
    "stacking_model = Model(inputs=model_input, outputs=output_layer)\n"
   ]
  },
  {
   "cell_type": "code",
   "execution_count": 8,
   "metadata": {},
   "outputs": [],
   "source": [
    "me = [\n",
    "      TruePositives(name='tp'),\n",
    "      FalsePositives(name='fp'),\n",
    "      TrueNegatives(name='tn'),\n",
    "      FalseNegatives(name='fn'),\n",
    "      BinaryAccuracy(name='accuracy'),\n",
    "      Precision(name='precision'),\n",
    "      Recall(name='recall'),\n",
    "      AUC(name='auc')\n",
    "]"
   ]
  },
  {
   "cell_type": "code",
   "execution_count": 9,
   "metadata": {},
   "outputs": [],
   "source": [
    "base_learning_rate = 0.01\n",
    "stacking_model.compile(optimizer=tf.keras.optimizers.Adamax(learning_rate=base_learning_rate),\n",
    "              loss=\"categorical_crossentropy\",\n",
    "              metrics=me)"
   ]
  },
  {
   "cell_type": "code",
   "execution_count": 10,
   "metadata": {},
   "outputs": [],
   "source": [
    "call_1 = tf.keras.callbacks.EarlyStopping(monitor='loss', patience=5, restore_best_weights=True)\n",
    "callbacks = [call_1]"
   ]
  },
  {
   "cell_type": "code",
   "execution_count": 11,
   "metadata": {},
   "outputs": [
    {
     "name": "stdout",
     "output_type": "stream",
     "text": [
      "Epoch 1/50\n",
      "WARNING:tensorflow:From C:\\Users\\Elite\\AppData\\Roaming\\Python\\Python311\\site-packages\\keras\\src\\utils\\tf_utils.py:492: The name tf.ragged.RaggedTensorValue is deprecated. Please use tf.compat.v1.ragged.RaggedTensorValue instead.\n",
      "\n",
      "38/38 [==============================] - 436s 11s/step - loss: 1.1401 - tp: 1555.0000 - fp: 105.0000 - tn: 7107.0000 - fn: 849.0000 - accuracy: 0.9008 - precision: 0.9367 - recall: 0.6468 - auc: 0.9582\n",
      "Epoch 2/50\n",
      "38/38 [==============================] - 429s 11s/step - loss: 0.7298 - tp: 2288.0000 - fp: 69.0000 - tn: 7143.0000 - fn: 116.0000 - accuracy: 0.9808 - precision: 0.9707 - recall: 0.9517 - auc: 0.9950\n",
      "Epoch 3/50\n",
      "38/38 [==============================] - 434s 11s/step - loss: 0.6957 - tp: 2319.0000 - fp: 71.0000 - tn: 7141.0000 - fn: 85.0000 - accuracy: 0.9838 - precision: 0.9703 - recall: 0.9646 - auc: 0.9970\n",
      "Epoch 4/50\n",
      "38/38 [==============================] - 452s 12s/step - loss: 0.6953 - tp: 2330.0000 - fp: 60.0000 - tn: 7152.0000 - fn: 74.0000 - accuracy: 0.9861 - precision: 0.9749 - recall: 0.9692 - auc: 0.9968\n",
      "Epoch 5/50\n",
      "38/38 [==============================] - 458s 12s/step - loss: 0.6825 - tp: 2330.0000 - fp: 58.0000 - tn: 7154.0000 - fn: 74.0000 - accuracy: 0.9863 - precision: 0.9757 - recall: 0.9692 - auc: 0.9976\n",
      "Epoch 6/50\n",
      "38/38 [==============================] - 457s 12s/step - loss: 0.6639 - tp: 2361.0000 - fp: 35.0000 - tn: 7177.0000 - fn: 43.0000 - accuracy: 0.9919 - precision: 0.9854 - recall: 0.9821 - auc: 0.9978\n",
      "Epoch 7/50\n",
      "38/38 [==============================] - 458s 12s/step - loss: 0.6728 - tp: 2347.0000 - fp: 45.0000 - tn: 7167.0000 - fn: 57.0000 - accuracy: 0.9894 - precision: 0.9812 - recall: 0.9763 - auc: 0.9975\n",
      "Epoch 8/50\n",
      "38/38 [==============================] - 456s 12s/step - loss: 0.6828 - tp: 2335.0000 - fp: 59.0000 - tn: 7153.0000 - fn: 69.0000 - accuracy: 0.9867 - precision: 0.9754 - recall: 0.9713 - auc: 0.9970\n",
      "Epoch 9/50\n",
      "38/38 [==============================] - 450s 12s/step - loss: 0.6710 - tp: 2341.0000 - fp: 53.0000 - tn: 7159.0000 - fn: 63.0000 - accuracy: 0.9879 - precision: 0.9779 - recall: 0.9738 - auc: 0.9977\n",
      "Epoch 10/50\n",
      "38/38 [==============================] - 423s 11s/step - loss: 0.6676 - tp: 2347.0000 - fp: 48.0000 - tn: 7164.0000 - fn: 57.0000 - accuracy: 0.9891 - precision: 0.9800 - recall: 0.9763 - auc: 0.9985\n",
      "Epoch 11/50\n",
      "38/38 [==============================] - 430s 11s/step - loss: 0.6655 - tp: 2344.0000 - fp: 51.0000 - tn: 7161.0000 - fn: 60.0000 - accuracy: 0.9885 - precision: 0.9787 - recall: 0.9750 - auc: 0.9982\n"
     ]
    }
   ],
   "source": [
    "epochs=50\n",
    "historyENSEMBLING=stacking_model.fit(\n",
    "training_dataset,\n",
    "  epochs=epochs,\n",
    "  callbacks = callbacks,\n",
    "  batch_size = batch_size\n",
    ")\n"
   ]
  },
  {
   "cell_type": "code",
   "execution_count": 12,
   "metadata": {},
   "outputs": [],
   "source": [
    "def drawing(p1, p2, p3, p4):\n",
    "  a = p1[0]\n",
    "  b = p2[0]\n",
    "  c = p3[0]\n",
    "  d = p4[0]\n",
    "  plt.rcParams[\"figure.figsize\"] = (20,4)\n",
    "  mpl.style.use('seaborn')\n",
    "  plt.plot(a,'blue', label=p1[1])\n",
    "  plt.plot(b,'orange', label=p2[1])\n",
    "  plt.plot(c,'red', label=p3[1])\n",
    "  plt.plot(d,'green', label=p4[1])\n",
    "  plt.legend()"
   ]
  },
  {
   "cell_type": "code",
   "execution_count": 13,
   "metadata": {},
   "outputs": [
    {
     "name": "stderr",
     "output_type": "stream",
     "text": [
      "C:\\Users\\Elite\\AppData\\Local\\Temp\\ipykernel_9128\\354503818.py:7: MatplotlibDeprecationWarning: The seaborn styles shipped by Matplotlib are deprecated since 3.6, as they no longer correspond to the styles shipped by seaborn. However, they will remain available as 'seaborn-v0_8-<style>'. Alternatively, directly use the seaborn API instead.\n",
      "  mpl.style.use('seaborn')\n"
     ]
    },
    {
     "data": {
      "image/png": "[encoded data removed]",
      "text/plain": [
       "<Figure size 800x550 with 1 Axes>"
      ]
     },
     "metadata": {},
     "output_type": "display_data"
    }
   ],
   "source": [
    "drawing(\n",
    "    [historyENSEMBLING.history['accuracy'], 'Accuracy'],\n",
    "    [historyENSEMBLING.history['recall'], 'Recall'],\n",
    "    [historyENSEMBLING.history['precision'], 'Precision'],\n",
    "    [historyENSEMBLING.history['auc'], 'auc']\n",
    ")"
   ]
  },
  {
   "cell_type": "code",
   "execution_count": 14,
   "metadata": {},
   "outputs": [
    {
     "data": {
      "text/plain": [
       "<matplotlib.legend.Legend at 0x1f89379c050>"
      ]
     },
     "execution_count": 14,
     "metadata": {},
     "output_type": "execute_result"
    },
    {
     "data": {
      "image/png": "[encoded data removed]",
      "text/plain": [
       "<Figure size 800x550 with 1 Axes>"
      ]
     },
     "metadata": {},
     "output_type": "display_data"
    }
   ],
   "source": [
    "plt.plot(historyENSEMBLING.history['loss'],'green', label=\"loss\")\n",
    "plt.legend()"
   ]
  },
  {
   "cell_type": "code",
   "execution_count": 15,
   "metadata": {},
   "outputs": [
    {
     "name": "stdout",
     "output_type": "stream",
     "text": [
      "9/9 [==============================] - 112s 12s/step - loss: 0.6676 - tp: 567.0000 - fp: 9.0000 - tn: 1719.0000 - fn: 9.0000 - accuracy: 0.9922 - precision: 0.9844 - recall: 0.9844 - auc: 0.9953\n"
     ]
    },
    {
     "data": {
      "text/plain": [
       "[0.6675834059715271,\n",
       " 567.0,\n",
       " 9.0,\n",
       " 1719.0,\n",
       " 9.0,\n",
       " 0.9921875,\n",
       " 0.984375,\n",
       " 0.984375,\n",
       " 0.9952779412269592]"
      ]
     },
     "execution_count": 15,
     "metadata": {},
     "output_type": "execute_result"
    }
   ],
   "source": [
    "stacking_model.evaluate(validation_dataset,batch_size = validation_dataset.batch_size ,steps = validation_dataset.n // validation_dataset.batch_size)"
   ]
  },
  {
   "cell_type": "code",
   "execution_count": 16,
   "metadata": {},
   "outputs": [],
   "source": [
    "validation_dataset.reset()"
   ]
  },
  {
   "cell_type": "code",
   "execution_count": 17,
   "metadata": {},
   "outputs": [
    {
     "name": "stdout",
     "output_type": "stream",
     "text": [
      "10/10 [==============================] - 113s 11s/step\n"
     ]
    }
   ],
   "source": [
    "Y_pred =stacking_model.predict(validation_dataset,  workers=1)"
   ]
  },
  {
   "cell_type": "code",
   "execution_count": 18,
   "metadata": {},
   "outputs": [],
   "source": [
    "y_pred = np.argmax(Y_pred ,  axis = 1)"
   ]
  },
  {
   "cell_type": "code",
   "execution_count": 19,
   "metadata": {},
   "outputs": [
    {
     "data": {
      "text/html": [
       "<div>\n",
       "<style scoped>\n",
       "    .dataframe tbody tr th:only-of-type {\n",
       "        vertical-align: middle;\n",
       "    }\n",
       "\n",
       "    .dataframe tbody tr th {\n",
       "        vertical-align: top;\n",
       "    }\n",
       "\n",
       "    .dataframe thead th {\n",
       "        text-align: right;\n",
       "    }\n",
       "</style>\n",
       "<table border=\"1\" class=\"dataframe\">\n",
       "  <thead>\n",
       "    <tr style=\"text-align: right;\">\n",
       "      <th></th>\n",
       "      <th>Aseel</th>\n",
       "      <th>Fasli Toto</th>\n",
       "      <th>Gajar</th>\n",
       "      <th>Kupro</th>\n",
       "    </tr>\n",
       "  </thead>\n",
       "  <tbody>\n",
       "    <tr>\n",
       "      <th>Aseel</th>\n",
       "      <td>98</td>\n",
       "      <td>2</td>\n",
       "      <td>0</td>\n",
       "      <td>0</td>\n",
       "    </tr>\n",
       "    <tr>\n",
       "      <th>Fasli Toto</th>\n",
       "      <td>0</td>\n",
       "      <td>68</td>\n",
       "      <td>0</td>\n",
       "      <td>0</td>\n",
       "    </tr>\n",
       "    <tr>\n",
       "      <th>Gajar</th>\n",
       "      <td>0</td>\n",
       "      <td>8</td>\n",
       "      <td>262</td>\n",
       "      <td>0</td>\n",
       "    </tr>\n",
       "    <tr>\n",
       "      <th>Kupro</th>\n",
       "      <td>0</td>\n",
       "      <td>0</td>\n",
       "      <td>0</td>\n",
       "      <td>162</td>\n",
       "    </tr>\n",
       "  </tbody>\n",
       "</table>\n",
       "</div>"
      ],
      "text/plain": [
       "            Aseel  Fasli Toto  Gajar  Kupro\n",
       "Aseel          98           2      0      0\n",
       "Fasli Toto      0          68      0      0\n",
       "Gajar           0           8    262      0\n",
       "Kupro           0           0      0    162"
      ]
     },
     "execution_count": 19,
     "metadata": {},
     "output_type": "execute_result"
    }
   ],
   "source": [
    "res = tf.math.confusion_matrix(y_pred,validation_dataset.classes).numpy()\n",
    "confusion_matrix = pd.DataFrame(res,\n",
    "                     index = classes_name,\n",
    "                     columns = classes_name)\n",
    "confusion_matrix"
   ]
  },
  {
   "cell_type": "code",
   "execution_count": 20,
   "metadata": {},
   "outputs": [
    {
     "data": {
      "image/png": "[encoded data removed]",
      "text/plain": [
       "<Figure size 1000x800 with 2 Axes>"
      ]
     },
     "metadata": {},
     "output_type": "display_data"
    }
   ],
   "source": [
    "import seaborn as sns\n",
    "plt.figure(figsize=(10, 8))\n",
    "sns.heatmap(confusion_matrix, annot=True, fmt='d', cmap='Blues', xticklabels=classes_name, yticklabels=classes_name)\n",
    "plt.xlabel('Predicted Label')\n",
    "plt.ylabel('True Label')\n",
    "plt.title('Confusion Matrix')\n",
    "plt.show()"
   ]
  },
  {
   "cell_type": "code",
   "execution_count": 21,
   "metadata": {},
   "outputs": [
    {
     "name": "stdout",
     "output_type": "stream",
     "text": [
      "              precision    recall  f1-score   support\n",
      "\n",
      "       Aseel       0.98      1.00      0.99        98\n",
      "  Fasli Toto       1.00      0.87      0.93        78\n",
      "       Gajar       0.97      1.00      0.98       262\n",
      "       Kupro       1.00      1.00      1.00       162\n",
      "\n",
      "    accuracy                           0.98       600\n",
      "   macro avg       0.99      0.97      0.98       600\n",
      "weighted avg       0.98      0.98      0.98       600\n",
      "\n"
     ]
    }
   ],
   "source": [
    "classifi_report = classification_report(validation_dataset.classes, y_pred,target_names = classes_name)\n",
    "print(classifi_report)"
   ]
  }
 ],
 "metadata": {
  "kaggle": {
   "accelerator": "none",
   "dataSources": [
    {
     "datasetId": 5366414,
     "sourceId": 8922121,
     "sourceType": "datasetVersion"
    }
   ],
   "isGpuEnabled": false,
   "isInternetEnabled": true,
   "language": "python",
   "sourceType": "notebook"
  },
  "kernelspec": {
   "display_name": "Python 3 (ipykernel)",
   "language": "python",
   "name": "python3"
  },
  "language_info": {
   "codemirror_mode": {
    "name": "ipython",
    "version": 3
   },
   "file_extension": ".py",
   "mimetype": "text/x-python",
   "name": "python",
   "nbconvert_exporter": "python",
   "pygments_lexer": "ipython3",
   "version": "3.8.20"
  }
 },
 "nbformat": 4,
 "nbformat_minor": 4
}
